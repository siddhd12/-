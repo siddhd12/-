{
 "cells": [
  {
   "cell_type": "code",
   "execution_count": 12,
   "metadata": {},
   "outputs": [],
   "source": [
    "import numpy as np\n",
    "\n",
    "def sigmoid(x):  # 0~1의 범위로 나타나게 해준다.\n",
    "    return 1/(1+np.exp(-x))\n",
    "\n",
    "def sigmoid_grad(x):\n",
    "    return (1,0 - sigmoid(x)) * sigmoid(x)\n",
    "\n",
    "def relu(x):\n",
    "    grad = np.zeros(x)\n",
    "    grad[x>=0] = 1\n",
    "    return grad\n",
    "\n",
    "def softmax(x): # 일반적인 백터를 확률 벡터로 변환시켜줌\n",
    "    if x.ndim ==2:  # 배치처리를 했을 경우\n",
    "        x = x.T \n",
    "        # 왜 하지?-> 그냥해준거...ㅋㅋ..\n",
    "        # 굳이 안해도된다 \n",
    "        # x = x - np.max(x,axis=1) # 세로로 해주면 됌\n",
    "        # axis= 0은 가로(열 ) , axis =1 세로(행)\n",
    "        # y = np.exp(x) / np.sum(np.exp(x),axis=1)  \n",
    "        # return y \n",
    "        x = x - np.max(x,axis=0)\n",
    "        y = np.exp(x) / np.sum(np.exp(x),axis=0)  # 전체의 합이 1인 확률 백\n",
    "        return y.T #  위에서 말한 다시 전치 시켜서 원래의 형태로 되돌려 놓음\n",
    "    \n",
    "    x = x - np.max(x) # 오버플로 대책\n",
    "    return np.exp(x) / np.sum(np.exp(x))\n",
    "\n",
    "    \n",
    "def mean_squard_error(y,t): # 예측값, 라벨을 원핫 인코딩한 값\n",
    "    return 0.5 * np.sum((y-t)**2)\n",
    "\n",
    "def cross_entropy_error(y,t): # 예측값, 라벨 or 라벨을 원핫 인코딩한 값\n",
    "    if y.ndim == 1:# 배치 처리를 안했다면 \n",
    "        t = t.reshape(1, t.size) \n",
    "        y = y.reshape(1,y.size)\n",
    "\n",
    "    # 훈련데이터가 원- 핫 벡터라면 정답 레이블의 인덱스로 반환 \n",
    "    if t.size == y.size: # t가 원핫 인코딩이 된거라면 \n",
    "        t = t.argmax(axis=1) # 원핫 인코딩 전으로 돌려놓음\n",
    "    batch_size = y.shape[0] # \n",
    "    return -np.sum(np.log(y[np.arrange(batch_size), t])) / batch_size\n",
    "\n"
   ]
  },
  {
   "cell_type": "code",
   "execution_count": 14,
   "metadata": {},
   "outputs": [
    {
     "data": {
      "text/plain": [
       "array([ 0,  1,  2,  3,  4,  5,  6,  7,  8,  9, 10, 11])"
      ]
     },
     "execution_count": 14,
     "metadata": {},
     "output_type": "execute_result"
    }
   ],
   "source": [
    "# -np.sum(np.log(y[np.arrange(batch_size), t])) 디버깅\n",
    "x=np.arange(12)\n",
    "x"
   ]
  },
  {
   "cell_type": "code",
   "execution_count": 15,
   "metadata": {},
   "outputs": [
    {
     "data": {
      "text/plain": [
       "array([[ 0,  1,  2,  3],\n",
       "       [ 4,  5,  6,  7],\n",
       "       [ 8,  9, 10, 11]])"
      ]
     },
     "execution_count": 15,
     "metadata": {},
     "output_type": "execute_result"
    }
   ],
   "source": [
    "x.reshape(3,4)"
   ]
  },
  {
   "cell_type": "code",
   "execution_count": null,
   "metadata": {},
   "outputs": [],
   "source": [
    "x[[1,2,0,[3,2,0]]]"
   ]
  }
 ],
 "metadata": {
  "kernelspec": {
   "display_name": "Python 3",
   "language": "python",
   "name": "python3"
  },
  "language_info": {
   "codemirror_mode": {
    "name": "ipython",
    "version": 3
   },
   "file_extension": ".py",
   "mimetype": "text/x-python",
   "name": "python",
   "nbconvert_exporter": "python",
   "pygments_lexer": "ipython3",
   "version": "3.12.0"
  }
 },
 "nbformat": 4,
 "nbformat_minor": 2
}
