{
 "cells": [
  {
   "cell_type": "code",
   "execution_count": 4,
   "metadata": {},
   "outputs": [
    {
     "name": "stdout",
     "output_type": "stream",
     "text": [
      "Collecting numpy\n",
      "  Obtaining dependency information for numpy from https://files.pythonhosted.org/packages/32/95/908d0caa051beae4f7c77652dbbeb781e7b717f3040c5c5fcaed4d3ed08f/numpy-1.26.1-cp312-cp312-win_amd64.whl.metadata\n",
      "  Downloading numpy-1.26.1-cp312-cp312-win_amd64.whl.metadata (61 kB)\n",
      "     ---------------------------------------- 0.0/61.2 kB ? eta -:--:--\n",
      "     ------------------------- ------------ 41.0/61.2 kB 960.0 kB/s eta 0:00:01\n",
      "     ---------------------------------------- 61.2/61.2 kB 1.1 MB/s eta 0:00:00\n",
      "Downloading numpy-1.26.1-cp312-cp312-win_amd64.whl (15.5 MB)\n",
      "   ---------------------------------------- 0.0/15.5 MB ? eta -:--:--\n",
      "   --- ------------------------------------ 1.3/15.5 MB 39.0 MB/s eta 0:00:01\n",
      "   ------------- -------------------------- 5.2/15.5 MB 66.2 MB/s eta 0:00:01\n",
      "   ------------------------- -------------- 9.8/15.5 MB 78.1 MB/s eta 0:00:01\n",
      "   --------------------------------- ------ 12.9/15.5 MB 81.8 MB/s eta 0:00:01\n",
      "   ---------------------------------------  15.5/15.5 MB 81.8 MB/s eta 0:00:01\n",
      "   ---------------------------------------- 15.5/15.5 MB 65.5 MB/s eta 0:00:00\n",
      "Installing collected packages: numpy\n",
      "Successfully installed numpy-1.26.1\n"
     ]
    },
    {
     "name": "stderr",
     "output_type": "stream",
     "text": [
      "\n",
      "[notice] A new release of pip is available: 23.2.1 -> 23.3.1\n",
      "[notice] To update, run: python.exe -m pip install --upgrade pip\n"
     ]
    }
   ],
   "source": [
    "# 퍼셉트론을 구현하기 \n",
    "!pip install numpy"
   ]
  },
  {
   "cell_type": "code",
   "execution_count": 6,
   "metadata": {},
   "outputs": [
    {
     "name": "stdout",
     "output_type": "stream",
     "text": [
      "(0, 0) -> 0\n",
      "(0, 1) -> 0\n",
      "(1, 0) -> 0\n",
      "(1, 1) -> 1\n"
     ]
    }
   ],
   "source": [
    "import numpy as np\n",
    "# 파이썬은 범용언어임,\n",
    "# x1w+x2w>=임계값\n",
    "# x1w+x2w-임계값 >=0\n",
    "# -임계값을 = b로 치환 \n",
    "def AND(x1,x2): # 함수 정의\n",
    "    x = np.array([x1,x2])  #입력 신호\n",
    "    # array는 백터로 변경해줌 -> 연산이 가능하게된다\n",
    "    #  x=1,2 일때,  x*2가 하면 2,4로 연산이되게 해준다\n",
    "    w = np.array([0.5,0.5]) # 가중치 \n",
    "    b = -0.7 # bias 고등수학으로 치면 절편의 역할을 함\n",
    "    tmp = np.sum(w*x)+b # sum은 백터의 합 ->좌표를 다 더한다 \n",
    "    if tmp <= 0:\n",
    "        return 0 \n",
    "    else:\n",
    "        return 1\n",
    "\n",
    "if __name__ == '__main__':\n",
    "    for xs in [(0,0),(0,1),(1,0),(1,1)]:\n",
    "        y = AND(xs[0],xs[1])\n",
    "        print(str(xs) + ' -> ' + str(y))\n",
    "\n"
   ]
  },
  {
   "cell_type": "code",
   "execution_count": 7,
   "metadata": {},
   "outputs": [
    {
     "name": "stdout",
     "output_type": "stream",
     "text": [
      "(0, 0) -> 1\n",
      "(0, 1) -> 1\n",
      "(1, 0) -> 1\n",
      "(1, 1) -> 0\n"
     ]
    }
   ],
   "source": [
    "def NAND(x1,x2): # 함수 정의\n",
    "    x = np.array([x1,x2])  #입력 신호\n",
    "    \n",
    "    w = np.array([-0.5,-0.5]) # 가중치 \n",
    "    b = 0.7 \n",
    "    tmp = np.sum(w*x)+b \n",
    "    if tmp <= 0:\n",
    "        return 0 \n",
    "    else:\n",
    "        return 1\n",
    "\n",
    "if __name__ == '__main__':\n",
    "    for xs in [(0,0),(0,1),(1,0),(1,1)]:\n",
    "        y = NAND(xs[0],xs[1])\n",
    "        print(str(xs) + ' -> ' + str(y))"
   ]
  },
  {
   "cell_type": "code",
   "execution_count": 8,
   "metadata": {},
   "outputs": [
    {
     "name": "stdout",
     "output_type": "stream",
     "text": [
      "(0, 0) -> 0\n",
      "(0, 1) -> 1\n",
      "(1, 0) -> 1\n",
      "(1, 1) -> 1\n"
     ]
    }
   ],
   "source": [
    "def OR(x1,x2): # 함수 정의\n",
    "    x = np.array([x1,x2])  #입력 신호\n",
    "    \n",
    "    w = np.array([0.5,0.5]) # 가중치 \n",
    "    b = -0.2 \n",
    "    tmp = np.sum(w*x)+b \n",
    "    if tmp <= 0:\n",
    "        return 0 \n",
    "    else:\n",
    "        return 1\n",
    "\n",
    "if __name__ == '__main__':\n",
    "    for xs in [(0,0),(0,1),(1,0),(1,1)]:\n",
    "        y = OR(xs[0],xs[1])\n",
    "        print(str(xs) + ' -> ' + str(y))"
   ]
  },
  {
   "cell_type": "code",
   "execution_count": 9,
   "metadata": {},
   "outputs": [
    {
     "name": "stdout",
     "output_type": "stream",
     "text": [
      "(0, 0) -> 0\n",
      "(0, 1) -> 1\n",
      "(1, 0) -> 1\n",
      "(1, 1) -> 0\n"
     ]
    }
   ],
   "source": [
    "def XOR(x1,x2): # 함수 정의 다른것과 다르다 단층 퍼셉트론으론 분리가 되지 않음\n",
    "    # 다층 퍼셉트론이 된다.\n",
    "    s1 = NAND(x1,x2)\n",
    "    s2 = OR(x1,x2)\n",
    "    y = AND(s1,s2)\n",
    "    return y\n",
    "if __name__ == '__main__': # -> 이것이 뭐냐  만약에 AND에서 if name 을 삭제하면 \n",
    "    # AND도 같이 실행됨 서로 다른 파일들에 있을때 우리가 원하는건 def만 원할때 사용한다.\n",
    "    # AND 실행할때 AND 의 if쪽이 실행되길 원하고 XOR에서 AND를 할때 AND의 if부분을 안부르게 하기 위한 것\n",
    "    \n",
    "    for xs in [(0,0),(0,1),(1,0),(1,1)]:\n",
    "        y = XOR(xs[0],xs[1])\n",
    "        print(str(xs) + ' -> ' + str(y))"
   ]
  },
  {
   "cell_type": "code",
   "execution_count": null,
   "metadata": {},
   "outputs": [],
   "source": []
  }
 ],
 "metadata": {
  "kernelspec": {
   "display_name": "Python 3",
   "language": "python",
   "name": "python3"
  },
  "language_info": {
   "codemirror_mode": {
    "name": "ipython",
    "version": 3
   },
   "file_extension": ".py",
   "mimetype": "text/x-python",
   "name": "python",
   "nbconvert_exporter": "python",
   "pygments_lexer": "ipython3",
   "version": "3.12.0"
  }
 },
 "nbformat": 4,
 "nbformat_minor": 2
}
