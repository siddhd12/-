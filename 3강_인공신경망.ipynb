{
 "cells": [
  {
   "cell_type": "code",
   "execution_count": 4,
   "metadata": {},
   "outputs": [
    {
     "data": {
      "text/plain": [
       "array([[1, 2],\n",
       "       [3, 4]])"
      ]
     },
     "execution_count": 4,
     "metadata": {},
     "output_type": "execute_result"
    }
   ],
   "source": [
    "import numpy as np\n",
    "# 행렬을 입력하기 위해 np.array를사용한다 \n",
    "x= np.array([[1,2],\n",
    "            [3,4]])\n",
    "# 1은 0,1의행\n",
    "#행렬곱은 교환법칙이 성립되지않음\n",
    "x"
   ]
  },
  {
   "cell_type": "code",
   "execution_count": 5,
   "metadata": {},
   "outputs": [
    {
     "data": {
      "text/plain": [
       "array([1, 2])"
      ]
     },
     "execution_count": 5,
     "metadata": {},
     "output_type": "execute_result"
    }
   ],
   "source": [
    "x[0]"
   ]
  },
  {
   "cell_type": "code",
   "execution_count": 6,
   "metadata": {},
   "outputs": [
    {
     "data": {
      "text/plain": [
       "array([3, 4])"
      ]
     },
     "execution_count": 6,
     "metadata": {},
     "output_type": "execute_result"
    }
   ],
   "source": [
    "x[1]"
   ]
  },
  {
   "cell_type": "code",
   "execution_count": 9,
   "metadata": {},
   "outputs": [
    {
     "data": {
      "text/plain": [
       "array([[5, 6],\n",
       "       [7, 8]])"
      ]
     },
     "execution_count": 9,
     "metadata": {},
     "output_type": "execute_result"
    }
   ],
   "source": [
    "y = np.array([[5,6],[7,8]])\n",
    "y"
   ]
  },
  {
   "cell_type": "code",
   "execution_count": 11,
   "metadata": {},
   "outputs": [
    {
     "data": {
      "text/plain": [
       "array([[ True,  True],\n",
       "       [ True,  True]])"
      ]
     },
     "execution_count": 11,
     "metadata": {},
     "output_type": "execute_result"
    }
   ],
   "source": [
    "x*y==y*x # 성립하는경우도 있음\n"
   ]
  },
  {
   "cell_type": "code",
   "execution_count": 14,
   "metadata": {},
   "outputs": [
    {
     "name": "stdout",
     "output_type": "stream",
     "text": [
      "None\n"
     ]
    }
   ],
   "source": [
    "def sigmoid(x):\n",
    "    return 1 / (1 +np.exp(-x))\n",
    "\n",
    "def identity_function(x):\n",
    "    return x\n",
    "\n",
    "def init_network(): # 모델의 틀을 미리 만듬  보통 이렇게 한다..\n",
    "    network= {} # 딕셔너리 \n",
    "    network['W1'] = np.array([[0.1, 0.3, 0.5], [0.2, 0.4, 0.6]])\n",
    "    network['b1'] = np.array([[0.1, 0.2, 0.3]])\n",
    "    network['W2'] = np.array([[0.1, 0.4],[0.2, 0.5],[0.3, 0.6]])\n",
    "    network['b2'] = np.array([[0.1, 0.2]])\n",
    "    network['W3'] = np.array([[0.1, 0.3],[0.2, 0.4]])\n",
    "    network['b3'] = np.array([[0.1, 0.2]])\n",
    "\n",
    "    return network\n",
    "\n",
    "def forward(network , x):  #순전파의 역할을 함\n",
    "    W1, W2, W3 = network['W1'], network['W2'], network['W3']\n",
    "    b1, b2, b3 = network['b1'], network['b2'], network['b3']\n",
    "\n",
    "    a1 = np.dot(x,W1)+ b1  # 행렬 곱은 np.dot을 쓴다. # 입력층에서 1층 은닉층으로 \n",
    "    z1 = sigmoid(a1) # a1에서 가중치를 재조정 해준다\n",
    "    a2 = np.dot(z1,W2) + b2  # 1층에서 2층으로\n",
    "    z2 = sigmoid(a2) # 가중치를 재조정\n",
    "    a3 = np.dot(z2,W3) + b3 # 2층에서 3층으로 \n",
    "    y = identity_function(a3)\n",
    "    # 항등함수 y는 사실 a3랑 같음 -> 일관성을 위해 넣음 -> 이후엔 softmax함수를 사용한다.\n",
    "    \n",
    "network = init_network() # 모든 인공신경망을 담고 있다. 모델을 정의함\n",
    "x = np.array([1.0,0.5])\n",
    "y = forward(network, x)\n",
    "print(y)"
   ]
  },
  {
   "cell_type": "markdown",
   "metadata": {},
   "source": [
    "# softmax 적용 하는 방법 \n",
    "e^x을 적용해 양수로 변경->exp 연산 \n",
    "\n",
    "그이후 노말라이즈를 적용 -> 원소를 다 더한 값으로 나눔\n",
    "\n",
    "## np.exp(값)/np.sum(np.exp(값))\n",
    "\n",
    "그러면 값이 큰 경우 컴퓨터가 연산을 못함 -> overflow가 나올 확률이 나옴 \n",
    "\n",
    "그렇기에 동일한 숫자를 더해도 동일한 값이 나온다는것을 적용해 값을 \n",
    "\n",
    "낮추면 overflow가 나오지 않을수 있다.\n"
   ]
  },
  {
   "cell_type": "code",
   "execution_count": 15,
   "metadata": {},
   "outputs": [],
   "source": [
    "def relu(x):\n",
    "    return np.maximum(0, x)\n",
    "\n",
    "def relu_grad(x):\n",
    "    grad = np.zeros(x)\n",
    "    grad[x>=0] = 1\n",
    "    return grad\n",
    "\n",
    "def softmax(x):\n",
    "    if x.ndim == 2: # ndim은 numpy로 말한다. 배치 처리시 사용\n",
    "        x = x.T\n",
    "        x = x - np.max(x,axis=0)\n",
    "        y = np.exp(x) / np.sum(np.exp(x),axis = 0)\n",
    "        return y.T\n",
    "\n",
    "    x = x - np.max(x) # 오버플로 대책\n",
    "    return np.exp(x)/np.sum(np.exp(x))\n",
    "\n",
    "def mean_squared_error(y,t):\n",
    "    return 0.5 * np.sum((y-t)**2)\n",
    "def cross_entropy_error(y,t):\n",
    "    if y.ndim == 1: # 차원을 묻는거임 \n",
    "        t = t.reshape(1, t.size)\n",
    "        y = y.reshape(1, y.size)\n",
    "\n",
    "    # 훈련데이터가 원 - 핫 벡터라면 정답 레이블의 인덱스로 변환 \n",
    "    if t.size == y.size:\n",
    "        t = t.argmax(axis=1)\n",
    "        batch_size = y.shape[0]\n",
    "    return - np.sum(np.log(y[np.arrange(batch_size),t])) / batch_size\n",
    "    \n",
    "def softmax_loss(X,t):\n",
    "    y = softmax(X)\n",
    "    return cross_entropy_error(y, t)\n",
    "\n",
    "\n"
   ]
  },
  {
   "cell_type": "markdown",
   "metadata": {},
   "source": [
    "3층 신경망의 신호 전달\n",
    "\n",
    " # 기본적인 구조\n",
    "##### Affine -> Sigmoid -> Affine -> Sigmoid -> Affine -> Softmax\n",
    "Affine은 Wx+b를 연산한거 "
   ]
  },
  {
   "cell_type": "markdown",
   "metadata": {},
   "source": []
  }
 ],
 "metadata": {
  "kernelspec": {
   "display_name": "Python 3",
   "language": "python",
   "name": "python3"
  },
  "language_info": {
   "codemirror_mode": {
    "name": "ipython",
    "version": 3
   },
   "file_extension": ".py",
   "mimetype": "text/x-python",
   "name": "python",
   "nbconvert_exporter": "python",
   "pygments_lexer": "ipython3",
   "version": "3.12.0"
  }
 },
 "nbformat": 4,
 "nbformat_minor": 2
}
