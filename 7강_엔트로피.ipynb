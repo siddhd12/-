{
 "cells": [
  {
   "cell_type": "code",
   "execution_count": 1,
   "metadata": {},
   "outputs": [],
   "source": [
    "# 손실함수는 패널티 정수\n",
    "# 손실함수가 낮다는것은 뉴럴네트워크의 성능이 좋다는 것"
   ]
  },
  {
   "cell_type": "code",
   "execution_count": 2,
   "metadata": {},
   "outputs": [],
   "source": [
    "# 크로스 엔트로피는 앞으로 모든 손실함수로 쓴다."
   ]
  },
  {
   "cell_type": "code",
   "execution_count": null,
   "metadata": {},
   "outputs": [],
   "source": [
    "#  엔트로피는 불확실성값이고 x와 y가 연관이 있다면 조건과 가정이 들어갈수록 불확실성이 줄어든다.\n",
    "# 많은 교육과 사전지식이 필요한 수업같다. 더 많은 지식을 갖고 정리 해야함\n",
    "\n"
   ]
  }
 ],
 "metadata": {
  "kernelspec": {
   "display_name": "Python 3",
   "language": "python",
   "name": "python3"
  },
  "language_info": {
   "codemirror_mode": {
    "name": "ipython",
    "version": 3
   },
   "file_extension": ".py",
   "mimetype": "text/x-python",
   "name": "python",
   "nbconvert_exporter": "python",
   "pygments_lexer": "ipython3",
   "version": "3.12.0"
  }
 },
 "nbformat": 4,
 "nbformat_minor": 2
}
